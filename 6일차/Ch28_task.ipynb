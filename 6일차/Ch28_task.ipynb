{
 "cells": [
  {
   "cell_type": "markdown",
   "metadata": {},
   "source": [
    "사용자로부터 3개의 숫자를 입력받아, 이를 튜플로 만든 후 최소값과 최대값을 출력하는 함수 min_max를 작성하세요."
   ]
  },
  {
   "cell_type": "markdown",
   "metadata": {},
   "source": []
  },
  {
   "cell_type": "code",
   "execution_count": null,
   "metadata": {},
   "outputs": [],
   "source": [
    "def min_max():\n",
    "    num1 = int(input(\"첫번재숫자\"))\n",
    "    num2 = int(input(\"두번째숫자\"))\n",
    "    num3 = int(input(\"3번째숫자\"))\n",
    "    numbers = (num1, num2, num3)\n",
    "    min_value = min(numbers)\n",
    "    max_value = max(numbers)\n",
    "    print(\"입력받은숫자:\", numbers)\n",
    "    print(\"최소값\", min_value)\n",
    "    print(\"최대값\", max_value)\n",
    "min_max()"
   ]
  }
 ],
 "metadata": {
  "kernelspec": {
   "display_name": "Python 3",
   "language": "python",
   "name": "python3"
  },
  "language_info": {
   "name": "python",
   "version": "3.12.4"
  }
 },
 "nbformat": 4,
 "nbformat_minor": 2
}
